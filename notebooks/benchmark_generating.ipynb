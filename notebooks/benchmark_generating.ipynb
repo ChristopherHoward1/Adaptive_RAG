{
 "cells": [
  {
   "cell_type": "markdown",
   "metadata": {},
   "source": [
    "## Import Packages"
   ]
  },
  {
   "cell_type": "code",
   "execution_count": 1,
   "metadata": {},
   "outputs": [],
   "source": [
    "import sys\n",
    "import os\n",
    "from dotenv import load_dotenv\n",
    "\n",
    "load_dotenv('config/.env')\n",
    "\n",
    "# Add the src directory to the system path\n",
    "sys.path.append(os.path.abspath('../src'))"
   ]
  },
  {
   "cell_type": "code",
   "execution_count": 3,
   "metadata": {},
   "outputs": [],
   "source": [
    "from rag_testing import (\n",
    "    QAGenerator, \n",
    "    GroundednessGrader,\n",
    "    StandaloneGrader\n",
    "    );"
   ]
  },
  {
   "cell_type": "markdown",
   "metadata": {},
   "source": [
    "## QA Generator"
   ]
  },
  {
   "cell_type": "code",
   "execution_count": 4,
   "metadata": {},
   "outputs": [],
   "source": [
    "context = \"The capital of France is Paris. It is known for its historic landmarks.\"\n",
    "qa_generator = QAGenerator()\n",
    "qa_pair = qa_generator.create_pairs(context)"
   ]
  },
  {
   "cell_type": "code",
   "execution_count": 5,
   "metadata": {},
   "outputs": [
    {
     "data": {
      "text/plain": [
       "{'question': 'What is the capital of France?', 'answer': 'Paris'}"
      ]
     },
     "execution_count": 5,
     "metadata": {},
     "output_type": "execute_result"
    }
   ],
   "source": [
    "qa_pair"
   ]
  },
  {
   "cell_type": "markdown",
   "metadata": {},
   "source": [
    "## Groundedness Scorer"
   ]
  },
  {
   "cell_type": "code",
   "execution_count": 6,
   "metadata": {},
   "outputs": [
    {
     "name": "stdout",
     "output_type": "stream",
     "text": [
      "Raw LLM Output: score=5 Evaluation='The question is clearly and unambiguously answerable with the context provided, as the context explicitly states that the capital of France is Paris.'\n"
     ]
    }
   ],
   "source": [
    "grader = GroundednessGrader()\n",
    "question = qa_pair[\"question\"]\n",
    "groundedness_grade = grader.score_pair(question=question, context=context)"
   ]
  },
  {
   "cell_type": "code",
   "execution_count": 7,
   "metadata": {},
   "outputs": [
    {
     "data": {
      "text/plain": [
       "GroundednessScore(score=5, Evaluation='The question is clearly and unambiguously answerable with the context provided, as the context explicitly states that the capital of France is Paris.')"
      ]
     },
     "execution_count": 7,
     "metadata": {},
     "output_type": "execute_result"
    }
   ],
   "source": [
    "groundedness_grade"
   ]
  },
  {
   "cell_type": "markdown",
   "metadata": {},
   "source": [
    "## Standalone Scorer"
   ]
  },
  {
   "cell_type": "code",
   "execution_count": 8,
   "metadata": {},
   "outputs": [
    {
     "name": "stdout",
     "output_type": "stream",
     "text": [
      "Raw LLM Output: score=5 Evaluation='The question is completely self-contained as it clearly asks for a specific piece of information (the capital of France) that can be answered without any additional context.'\n"
     ]
    },
    {
     "data": {
      "text/plain": [
       "StandAloneScore(score=5, Evaluation='The question is completely self-contained as it clearly asks for a specific piece of information (the capital of France) that can be answered without any additional context.')"
      ]
     },
     "execution_count": 8,
     "metadata": {},
     "output_type": "execute_result"
    }
   ],
   "source": [
    "standalone_grader = StandaloneGrader()\n",
    "result = standalone_grader.score_question(question)\n",
    "result"
   ]
  }
 ],
 "metadata": {
  "kernelspec": {
   "display_name": ".venv",
   "language": "python",
   "name": "python3"
  },
  "language_info": {
   "codemirror_mode": {
    "name": "ipython",
    "version": 3
   },
   "file_extension": ".py",
   "mimetype": "text/x-python",
   "name": "python",
   "nbconvert_exporter": "python",
   "pygments_lexer": "ipython3",
   "version": "3.9.6"
  }
 },
 "nbformat": 4,
 "nbformat_minor": 2
}
