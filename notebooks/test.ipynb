{
 "cells": [
  {
   "cell_type": "code",
   "execution_count": 2,
   "metadata": {},
   "outputs": [],
   "source": [
    "import sys\n",
    "import os\n",
    "from dotenv import load_dotenv\n",
    "\n",
    "load_dotenv('config/.env')\n",
    "\n",
    "# Add the src directory to the system path\n",
    "sys.path.append(os.path.abspath('../src'))\n",
    "\n",
    "openai_api_key = os.getenv('OPENAI_API_KEY')\n",
    "tavily_api_key = os.getenv('TAVILY_API_KEY')"
   ]
  },
  {
   "cell_type": "code",
   "execution_count": 3,
   "metadata": {},
   "outputs": [],
   "source": [
    "import openai\n",
    "openai.api_key = openai_api_key\n",
    "\n"
   ]
  },
  {
   "cell_type": "code",
   "execution_count": null,
   "metadata": {},
   "outputs": [
    {
     "name": "stderr",
     "output_type": "stream",
     "text": [
      "/Users/cboyfly/Documents/repos/hybrid-retrieval/.venv/lib/python3.9/site-packages/urllib3/__init__.py:35: NotOpenSSLWarning: urllib3 v2 only supports OpenSSL 1.1.1+, currently the 'ssl' module is compiled with 'LibreSSL 2.8.3'. See: https://github.com/urllib3/urllib3/issues/3020\n",
      "  warnings.warn(\n",
      "/Users/cboyfly/Documents/repos/hybrid-retrieval/.venv/lib/python3.9/site-packages/tqdm/auto.py:21: TqdmWarning: IProgress not found. Please update jupyter and ipywidgets. See https://ipywidgets.readthedocs.io/en/stable/user_install.html\n",
      "  from .autonotebook import tqdm as notebook_tqdm\n",
      "[nltk_data] Downloading package punkt to /Users/cboyfly/nltk_data...\n",
      "[nltk_data]   Package punkt is already up-to-date!\n",
      "12/16/2024 22:30:28 - INFO - \t missing_keys: []\n",
      "12/16/2024 22:30:28 - INFO - \t unexpected_keys: []\n",
      "12/16/2024 22:30:28 - INFO - \t mismatched_keys: []\n",
      "12/16/2024 22:30:28 - INFO - \t error_msgs: []\n",
      "12/16/2024 22:30:28 - INFO - \t Model Parameters: 590.0M, Transformer: 434.6M, Coref head: 155.4M\n"
     ]
    }
   ],
   "source": [
    "import helper_fns as hp\n",
    "from langgraph.adaptive_rag import (\n",
    "    QueryAnalyzer,\n",
    "    QueryTransformer,\n",
    "    Document,\n",
    "    FusionRetrievalRAG,\n",
    "    Reranker,\n",
    "    HallucinationGrader,\n",
    "    AnswerGrader,\n",
    "    WebRetriever,\n",
    "    create_langgraph_app,\n",
    ");"
   ]
  },
  {
   "cell_type": "code",
   "execution_count": 4,
   "metadata": {},
   "outputs": [
    {
     "name": "stderr",
     "output_type": "stream",
     "text": [
      "12/06/2024 08:08:15 - INFO - \t Tokenize 1 inputs...\n",
      "Map: 100%|██████████| 1/1 [00:00<00:00,  5.18 examples/s]\n",
      "12/06/2024 08:08:15 - INFO - \t ***** Running Inference on 1 texts *****\n",
      "Inference:   0%|          | 0/1 [00:00<?, ?it/s]12/06/2024 08:08:15 - INFO - \t Skipping doc with len 6717. max_doc_len is 4096\n",
      "Inference:   0%|          | 0/1 [00:00<?, ?it/s]"
     ]
    },
    {
     "name": "stdout",
     "output_type": "stream",
     "text": [
      "IndexError occurred: list index out of range. Returning original text.\n"
     ]
    },
    {
     "name": "stderr",
     "output_type": "stream",
     "text": [
      "\n"
     ]
    }
   ],
   "source": [
    "text = hp.process_file('../data/building-blocks-of-rag-ebook-final.pdf')"
   ]
  },
  {
   "cell_type": "markdown",
   "metadata": {},
   "source": [
    "# Classes Demo"
   ]
  },
  {
   "cell_type": "markdown",
   "metadata": {},
   "source": [
    "## Query Analyzer"
   ]
  },
  {
   "cell_type": "code",
   "execution_count": null,
   "metadata": {},
   "outputs": [],
   "source": [
    "knowledge_base_description = \"Insider trading\"\n",
    "analyzer = QueryAnalyzer(knowledge_base_description=knowledge_base_description)"
   ]
  },
  {
   "cell_type": "code",
   "execution_count": 7,
   "metadata": {},
   "outputs": [
    {
     "name": "stderr",
     "output_type": "stream",
     "text": [
      "12/06/2024 08:08:29 - INFO - \t HTTP Request: POST https://api.openai.com/v1/chat/completions \"HTTP/1.1 200 OK\"\n"
     ]
    },
    {
     "name": "stdout",
     "output_type": "stream",
     "text": [
      "no-retrieval\n"
     ]
    }
   ],
   "source": [
    "response = analyzer.analyze_query(question=\"Which teams did Michael Jordan play for?\")\n",
    "print(response)"
   ]
  },
  {
   "cell_type": "code",
   "execution_count": 12,
   "metadata": {},
   "outputs": [
    {
     "name": "stderr",
     "output_type": "stream",
     "text": [
      "12/04/2024 21:08:50 - INFO - \t HTTP Request: POST https://api.openai.com/v1/chat/completions \"HTTP/1.1 200 OK\"\n"
     ]
    },
    {
     "name": "stdout",
     "output_type": "stream",
     "text": [
      "vectorstore\n"
     ]
    }
   ],
   "source": [
    "response = analyzer.analyze_query(question=\"How can quantum computing improve AI development in the near future?\")\n",
    "print(response)"
   ]
  },
  {
   "cell_type": "markdown",
   "metadata": {},
   "source": [
    "## Query Transformations"
   ]
  },
  {
   "cell_type": "code",
   "execution_count": 6,
   "metadata": {},
   "outputs": [
    {
     "name": "stderr",
     "output_type": "stream",
     "text": [
      "12/06/2024 08:13:34 - INFO - \t HTTP Request: POST https://api.openai.com/v1/chat/completions \"HTTP/1.1 200 OK\"\n",
      "12/06/2024 08:13:38 - INFO - \t HTTP Request: POST https://api.openai.com/v1/chat/completions \"HTTP/1.1 200 OK\"\n",
      "12/06/2024 08:13:40 - INFO - \t HTTP Request: POST https://api.openai.com/v1/chat/completions \"HTTP/1.1 200 OK\"\n"
     ]
    }
   ],
   "source": [
    "rephrased_question = QueryTransformer().rewrite_question(question=\"Why should I care about quantum computing?\")\n",
    "stepback_question = QueryTransformer().generate_stepback_query(question=\"Why should I care about quantum computing?\")\n",
    "sub_questions = QueryTransformer().decompose_question(question=\"Why should I care about quantum computing?\")"
   ]
  },
  {
   "cell_type": "code",
   "execution_count": 7,
   "metadata": {},
   "outputs": [
    {
     "name": "stdout",
     "output_type": "stream",
     "text": [
      "Rephrased question: What are the key reasons to be interested in quantum computing and its potential impact on technology and society? \n",
      "Step-back question: What are the implications and significance of emerging technologies like quantum computing? \n",
      "Sub-questions: ['What are the fundamental principles of quantum computing?', 'What are the potential applications of quantum computing in various fields?', 'How does quantum computing differ from classical computing?', 'What are the current advancements and challenges in quantum computing research?']\n"
     ]
    }
   ],
   "source": [
    "print(f\"Rephrased question: {rephrased_question} \\nStep-back question: {stepback_question} \\nSub-questions: {sub_questions}\")"
   ]
  },
  {
   "cell_type": "markdown",
   "metadata": {},
   "source": [
    "## Answer Grader"
   ]
  },
  {
   "cell_type": "code",
   "execution_count": 6,
   "metadata": {},
   "outputs": [
    {
     "name": "stderr",
     "output_type": "stream",
     "text": [
      "12/06/2024 19:13:30 - INFO - \t HTTP Request: POST https://api.openai.com/v1/chat/completions \"HTTP/1.1 200 OK\"\n"
     ]
    },
    {
     "name": "stdout",
     "output_type": "stream",
     "text": [
      "yes\n"
     ]
    }
   ],
   "source": [
    "question = \"What is the difference between legal and illegal insider trading?\"\n",
    "answer = \"Legal insider trading involves buying or selling stock by company insiders who follow disclosure regulations and do not use material, nonpublic information. Illegal insider trading involves trading based on material, nonpublic information, violating a duty of trust or confidence.\"\n",
    "graded_answer = AnswerGrader().grade_answer(question=question,generation=answer)\n",
    "print(graded_answer)"
   ]
  },
  {
   "cell_type": "code",
   "execution_count": 7,
   "metadata": {},
   "outputs": [
    {
     "name": "stderr",
     "output_type": "stream",
     "text": [
      "12/06/2024 19:15:13 - INFO - \t HTTP Request: POST https://api.openai.com/v1/chat/completions \"HTTP/1.1 200 OK\"\n"
     ]
    },
    {
     "name": "stdout",
     "output_type": "stream",
     "text": [
      "no\n"
     ]
    }
   ],
   "source": [
    "question = \"What are some recent high-profile cases of insider trading?\"\n",
    "answer = \"Legal insider trading involves buying or selling stock by company insiders who follow disclosure regulations and do not use material, nonpublic information. Illegal insider trading involves trading based on material, nonpublic information, violating a duty of trust or confidence.\"\n",
    "graded_answer = AnswerGrader().grade_answer(question=question,generation=answer)\n",
    "print(graded_answer)"
   ]
  },
  {
   "cell_type": "markdown",
   "metadata": {},
   "source": [
    "## Halucination Grader"
   ]
  },
  {
   "cell_type": "code",
   "execution_count": null,
   "metadata": {},
   "outputs": [
    {
     "name": "stderr",
     "output_type": "stream",
     "text": [
      "12/06/2024 19:36:53 - INFO - \t HTTP Request: POST https://api.openai.com/v1/chat/completions \"HTTP/1.1 200 OK\"\n"
     ]
    },
    {
     "name": "stdout",
     "output_type": "stream",
     "text": [
      "yes\n"
     ]
    }
   ],
   "source": [
    "context = \"\"\"\n",
    "Insider trading is the buying or selling of a publicly traded company's stock or other securities based on material, nonpublic information about the company. This information is typically obtained through a position of trust or access within the company, such as by executives, employees, or other insiders like lawyers, accountants, or consultants.\n",
    "\n",
    "Insider trading can be legal or illegal, depending on the circumstances:\n",
    "\n",
    "Legal Insider Trading: Occurs when company insiders, such as executives or board members, buy or sell stock in their own company but do so in compliance with regulations. They must disclose their trades to regulatory bodies (e.g., the SEC in the U.S.) and avoid trading based on nonpublic, material information.\n",
    "\n",
    "Illegal Insider Trading: Occurs when someone trades securities based on material, nonpublic information in violation of their duty of trust or confidence. This includes tipping off others who then trade on the information. Illegal insider trading undermines market fairness and investor confidence.\n",
    "\n",
    "Key regulators, like the SEC, enforce laws to prevent and prosecute illegal insider trading. Penalties can include fines, disgorgement of profits, and even imprisonment.\n",
    "\"\"\"\n",
    "\n",
    "answer = \"Legal insider trading involves buying or selling stock by company insiders who follow disclosure regulations and do not use material, nonpublic information. Illegal insider trading involves trading based on material, nonpublic information, violating a duty of trust or confidence.\"\n",
    "\n",
    "hallucination_grade = HallucinationGrader().grade_hallucination(documents=context, generation=answer)\n",
    "print(hallucination_grade)"
   ]
  },
  {
   "cell_type": "markdown",
   "metadata": {
    "vscode": {
     "languageId": "sql"
    }
   },
   "source": [
    "## Document Reranker"
   ]
  },
  {
   "cell_type": "code",
   "execution_count": 4,
   "metadata": {},
   "outputs": [
    {
     "name": "stderr",
     "output_type": "stream",
     "text": [
      "12/07/2024 09:29:26 - INFO - \t HTTP Request: POST https://api.openai.com/v1/chat/completions \"HTTP/1.1 200 OK\"\n",
      "12/07/2024 09:29:26 - INFO - \t HTTP Request: POST https://api.openai.com/v1/chat/completions \"HTTP/1.1 200 OK\"\n",
      "12/07/2024 09:29:27 - INFO - \t HTTP Request: POST https://api.openai.com/v1/chat/completions \"HTTP/1.1 200 OK\"\n",
      "12/07/2024 09:29:28 - INFO - \t HTTP Request: POST https://api.openai.com/v1/chat/completions \"HTTP/1.1 200 OK\"\n",
      "12/07/2024 09:29:28 - INFO - \t HTTP Request: POST https://api.openai.com/v1/chat/completions \"HTTP/1.1 200 OK\"\n"
     ]
    },
    {
     "name": "stdout",
     "output_type": "stream",
     "text": [
      "10 Insider trading is the buying or selling of a publicly traded company's stock or other securities based on material, nonpublic information about the company. This information is typically obtained through a position of trust or access within the company, such as by executives, employees, or other insiders.\n",
      "9 Legal insider trading occurs when company insiders, such as executives or board members, buy or sell stock in their own company while following regulations. They must disclose their trades to regulatory bodies, such as the SEC, and avoid trading based on nonpublic, material information.\n",
      "9 Illegal insider trading occurs when someone trades securities based on material, nonpublic information in violation of their duty of trust or confidence. This can include tipping off others who trade on the information.\n"
     ]
    }
   ],
   "source": [
    "docs = [\n",
    "    Document(page_content=(\n",
    "        \"Insider trading is the buying or selling of a publicly traded company's stock or other securities \"\n",
    "        \"based on material, nonpublic information about the company. This information is typically obtained \"\n",
    "        \"through a position of trust or access within the company, such as by executives, employees, or other insiders.\"\n",
    "    )),\n",
    "    Document(page_content=(\n",
    "        \"Legal insider trading occurs when company insiders, such as executives or board members, buy or sell stock \"\n",
    "        \"in their own company while following regulations. They must disclose their trades to regulatory bodies, \"\n",
    "        \"such as the SEC, and avoid trading based on nonpublic, material information.\"\n",
    "    )),\n",
    "    Document(page_content=(\n",
    "        \"Illegal insider trading occurs when someone trades securities based on material, nonpublic information \"\n",
    "        \"in violation of their duty of trust or confidence. This can include tipping off others who trade on the information.\"\n",
    "    )),\n",
    "    Document(page_content=(\n",
    "        \"Regulators like the SEC enforce laws to prevent and prosecute illegal insider trading. Penalties for violations \"\n",
    "        \"include fines, disgorgement of profits, and imprisonment, which help maintain market fairness and investor confidence.\"\n",
    "    )),\n",
    "    Document(page_content=(\n",
    "        \"Financial markets thrive on transparency and trust. Effective regulatory oversight ensures fair access to information \"\n",
    "        \"for all investors, fostering confidence in the system.\"\n",
    "    )\n",
    "    ),\n",
    "]\n",
    "\n",
    "reranker = Reranker()\n",
    "query = \"Explain insider trading\"\n",
    "\n",
    "top_docs = reranker.rerank_documents(query=query, documents=docs, top_n=3)\n",
    "\n",
    "for doc_info in top_docs:\n",
    "    print(doc_info['relevance_score'], doc_info['content'].page_content)"
   ]
  },
  {
   "cell_type": "code",
   "execution_count": 4,
   "metadata": {},
   "outputs": [
    {
     "name": "stdout",
     "output_type": "stream",
     "text": [
      "Retrieved Documents:\n",
      "\n",
      "Document 1: Can LLMs have Emotions \"I believe that LLMs can still connect with humans on an emotional level. After all, humans are also capable of understanding and responding to emotions that are expressed through text. For example, if an LLM writes a text that expresses sadness, a human can still understand and empathize with that sadness, even though\n",
      "\n",
      "Document 2: To what degree do they feel the specific qualia that we associate with emotions? ... I made this point and that is why I did not try to argue that LLMs did not have qualia. But I do believe you can consider necessary conditions and look at their absence. For instance, I can safely declare that a rock does not have qualia, because I know it does\n",
      "\n",
      "Document 3: The answer depends on the definition of ‘feelings.’ According to the American Psychological Association’s, autoregressive Large Language Models (LLMs) trained and fully prompted with text tokens cannot: Their ‘state of mind’ is trivial (a singleton) and expressed as their measurable output. However, when using ‘system prompts’, the state is generally unobservable, leading to self-contained trajectories indistinguishable from their output expressions, fitting the definition of ‘feelings.’ While the opening question is posed partly in jest, the ensuing analysis sheds light on the potential use of Large Language Models as Trojan horses [12], whereby information stored in the weights or system prompts, not accessible to the user, may be used maliciously.\n",
      "\n",
      "Document 4: They argue that LLMs do not have the same physical body or lifetime of experiences as humans, and therefore they cannot fully understand or experience emotions in the same way. This means that LLMs may be able to understand and experience emotions in ways that humans cannot. On the other hand, there are some important differences between the way that humans and LLMs experience emotions. If this is the case, then it would seem that the emotions of a LLM would be less valuable than the emotions of a human, simply because the LLM would not be able to fully experience the world in the same way. In that sense, there is no fundamental difference between the way that humans and LLMs experience emotions.\n",
      "\n",
      "Document 5: Nonetheless, this isn't the first time people have attributed human-like feelings or abilities to a machine. This field has seen so much activity in the last few months that numerous LLMs have been released after ChatGPT such as GPT4 (OpenAI), LLaMA(Meta), Bard(Google) and ALPACA (Stanford).\n"
     ]
    }
   ],
   "source": [
    "question = \"Do LLMs have feelings?\"\n",
    "websearch = WebRetriever(api_key=tavily_api_key)\n",
    "retrieved_docs = websearch.retrieve(query=question)\n",
    "\n",
    "print(\"Retrieved Documents:\")\n",
    "for idx, doc in enumerate(retrieved_docs):\n",
    "    print(f\"\\nDocument {idx+1}: {doc.page_content}\")"
   ]
  },
  {
   "cell_type": "markdown",
   "metadata": {},
   "source": [
    "# Langgraph App Demo"
   ]
  },
  {
   "cell_type": "code",
   "execution_count": null,
   "metadata": {},
   "outputs": [
    {
     "name": "stderr",
     "output_type": "stream",
     "text": [
      "12/13/2024 11:54:30 - INFO - \t HTTP Request: POST https://api.openai.com/v1/embeddings \"HTTP/1.1 200 OK\"\n",
      "12/13/2024 11:54:31 - INFO - \t HTTP Request: POST https://api.openai.com/v1/embeddings \"HTTP/1.1 200 OK\"\n",
      "12/13/2024 11:54:31 - INFO - \t HTTP Request: POST https://api.openai.com/v1/embeddings \"HTTP/1.1 200 OK\"\n"
     ]
    },
    {
     "name": "stdout",
     "output_type": "stream",
     "text": [
      "[\"Insider trading is the buying or selling of a publicly traded company's stock or other securities based on material, nonpublic information about the company. This information is typically obtained through a position of trust or access within the company, such as by executives, employees, or other insiders like lawyers, accountants, or consultants.\\n\\nInsider trading can be legal or illegal, depending on the circumstances:\\n\\nLegal Insider Trading: Occurs when company insiders, such as executives or board members, buy or sell stock in their own company but do so in compliance with regulations. They must disclose their trades to regulatory bodies (e.g., the SEC in the U.S.) and avoid trading based on nonpublic, material information.\", 'Illegal Insider Trading: Occurs when someone trades securities based on material, nonpublic information in violation of their duty of trust or confidence. This includes tipping off others who then trade on the information. Illegal insider trading undermines market fairness and investor confidence.\\n\\nKey regulators, like the SEC, enforce laws to prevent and prosecute illegal insider trading. Penalties can include fines, disgorgement of profits, and even imprisonment.']\n"
     ]
    }
   ],
   "source": [
    "context = \"\"\"\n",
    "Insider trading is the buying or selling of a publicly traded company's stock or other securities based on material, nonpublic information about the company. This information is typically obtained through a position of trust or access within the company, such as by executives, employees, or other insiders like lawyers, accountants, or consultants.\n",
    "\n",
    "Insider trading can be legal or illegal, depending on the circumstances:\n",
    "\n",
    "Legal Insider Trading: Occurs when company insiders, such as executives or board members, buy or sell stock in their own company but do so in compliance with regulations. They must disclose their trades to regulatory bodies (e.g., the SEC in the U.S.) and avoid trading based on nonpublic, material information.\n",
    "\n",
    "Illegal Insider Trading: Occurs when someone trades securities based on material, nonpublic information in violation of their duty of trust or confidence. This includes tipping off others who then trade on the information. Illegal insider trading undermines market fairness and investor confidence.\n",
    "\n",
    "Key regulators, like the SEC, enforce laws to prevent and prosecute illegal insider trading. Penalties can include fines, disgorgement of profits, and even imprisonment.\n",
    "\"\"\"\n",
    "question = \"When is insider trading legal?\"\n",
    "docs = FusionRetrievalRAG(text=context).run(query=question)\n",
    "print(docs)"
   ]
  },
  {
   "cell_type": "code",
   "execution_count": 4,
   "metadata": {},
   "outputs": [],
   "source": [
    "context = \"\"\"\n",
    "Insider trading is the buying or selling of a publicly traded company's stock or other securities based on material, nonpublic information about the company. This information is typically obtained through a position of trust or access within the company, such as by executives, employees, or other insiders like lawyers, accountants, or consultants.\n",
    "\n",
    "Insider trading can be legal or illegal, depending on the circumstances:\n",
    "\n",
    "Legal Insider Trading: Occurs when company insiders, such as executives or board members, buy or sell stock in their own company but do so in compliance with regulations. They must disclose their trades to regulatory bodies (e.g., the SEC in the U.S.) and avoid trading based on nonpublic, material information.\n",
    "\n",
    "Illegal Insider Trading: Occurs when someone trades securities based on material, nonpublic information in violation of their duty of trust or confidence. This includes tipping off others who then trade on the information. Illegal insider trading undermines market fairness and investor confidence.\n",
    "\n",
    "Key regulators, like the SEC, enforce laws to prevent and prosecute illegal insider trading. Penalties can include fines, disgorgement of profits, and even imprisonment.\n",
    "\"\"\"\n",
    "kb_description = \"legal vs illegal insider trading\"\n",
    "app = create_langgraph_app(knowledge_base_description=kb_description, \n",
    "                           text=context)"
   ]
  },
  {
   "cell_type": "code",
   "execution_count": 5,
   "metadata": {},
   "outputs": [
    {
     "name": "stdout",
     "output_type": "stream",
     "text": [
      "---ROUTE QUESTION---\n"
     ]
    },
    {
     "name": "stderr",
     "output_type": "stream",
     "text": [
      "12/14/2024 20:14:32 - INFO - \t HTTP Request: POST https://api.openai.com/v1/chat/completions \"HTTP/1.1 200 OK\"\n",
      "12/14/2024 20:14:32 - INFO - \t Anonymized telemetry enabled. See                     https://docs.trychroma.com/telemetry for more information.\n"
     ]
    },
    {
     "name": "stdout",
     "output_type": "stream",
     "text": [
      "---ROUTE QUESTION TO RAG---\n",
      "---RETRIEVE---\n"
     ]
    },
    {
     "name": "stderr",
     "output_type": "stream",
     "text": [
      "12/14/2024 20:14:33 - INFO - \t HTTP Request: POST https://api.openai.com/v1/embeddings \"HTTP/1.1 200 OK\"\n",
      "12/14/2024 20:14:33 - INFO - \t HTTP Request: POST https://api.openai.com/v1/embeddings \"HTTP/1.1 200 OK\"\n",
      "12/14/2024 20:14:33 - INFO - \t HTTP Request: POST https://api.openai.com/v1/embeddings \"HTTP/1.1 200 OK\"\n"
     ]
    },
    {
     "name": "stdout",
     "output_type": "stream",
     "text": [
      "\"Node 'retrieve':\"\n",
      "'\\n---\\n'\n",
      "---CHECK DOCUMENT RELEVANCE TO QUESTION---\n"
     ]
    },
    {
     "name": "stderr",
     "output_type": "stream",
     "text": [
      "12/14/2024 20:14:34 - INFO - \t HTTP Request: POST https://api.openai.com/v1/chat/completions \"HTTP/1.1 200 OK\"\n",
      "12/14/2024 20:14:35 - INFO - \t HTTP Request: POST https://api.openai.com/v1/chat/completions \"HTTP/1.1 200 OK\"\n"
     ]
    },
    {
     "name": "stdout",
     "output_type": "stream",
     "text": [
      "Warning: Requested top_n=3, but only 2 documents are available.\n",
      "---DOCUMENT GRADE: 9\n",
      " DOCUMENT 0 RELEVANT---\n",
      "---DOCUMENT GRADE: 3\n",
      " DOCUMENT 1 NOT RELEVANT---\n",
      "---ASSESS GRADED DOCUMENTS---\n",
      "---DECISION: GENERATE---\n",
      "\"Node 'grade_documents':\"\n",
      "'\\n---\\n'\n",
      "---GENERATE---\n"
     ]
    },
    {
     "name": "stderr",
     "output_type": "stream",
     "text": [
      "12/14/2024 20:14:35 - INFO - \t HTTP Request: POST https://api.openai.com/v1/chat/completions \"HTTP/1.1 200 OK\"\n",
      "12/14/2024 20:14:36 - INFO - \t HTTP Request: POST https://api.openai.com/v1/chat/completions \"HTTP/1.1 200 OK\"\n",
      "12/14/2024 20:14:37 - INFO - \t HTTP Request: POST https://api.openai.com/v1/chat/completions \"HTTP/1.1 200 OK\"\n",
      "12/14/2024 20:14:39 - INFO - \t HTTP Request: POST https://api.openai.com/v1/chat/completions \"HTTP/1.1 200 OK\"\n"
     ]
    },
    {
     "name": "stdout",
     "output_type": "stream",
     "text": [
      "---CHECK HALLUCINATIONS---\n"
     ]
    },
    {
     "name": "stderr",
     "output_type": "stream",
     "text": [
      "12/14/2024 20:14:39 - INFO - \t HTTP Request: POST https://api.openai.com/v1/chat/completions \"HTTP/1.1 200 OK\"\n"
     ]
    },
    {
     "name": "stdout",
     "output_type": "stream",
     "text": [
      "---DECISION: GENERATION IS GROUNDED IN DOCUMENTS---\n",
      "---GRADE GENERATION vs QUESTION---\n"
     ]
    },
    {
     "name": "stderr",
     "output_type": "stream",
     "text": [
      "12/14/2024 20:14:40 - INFO - \t HTTP Request: POST https://api.openai.com/v1/chat/completions \"HTTP/1.1 200 OK\"\n"
     ]
    },
    {
     "name": "stdout",
     "output_type": "stream",
     "text": [
      "---DECISION: GENERATION ADDRESSES QUESTION---\n",
      "\"Node 'generate':\"\n",
      "'\\n---\\n'\n",
      "('Insider trading is generally illegal when it involves buying or selling '\n",
      " 'securities based on material, nonpublic information. However, it can be '\n",
      " \"legal if company insiders, like executives, trade their own company's stock \"\n",
      " 'while complying with regulations, including timely disclosure of their '\n",
      " 'trades to regulatory bodies. Different countries have varying regulations '\n",
      " 'governing insider trading, and penalties for illegal insider trading can '\n",
      " 'include fines and imprisonment.')\n"
     ]
    }
   ],
   "source": [
    "from pprint import pprint\n",
    "\n",
    "question = \"When is insider trading legal?\"\n",
    "# Run\n",
    "inputs = {\n",
    "    \"question\": question\n",
    "}\n",
    "for output in app.stream(inputs):\n",
    "    for key, value in output.items():\n",
    "        # Node\n",
    "        pprint(f\"Node '{key}':\")\n",
    "    pprint(\"\\n---\\n\")\n",
    "\n",
    "# Final generation\n",
    "pprint(value[\"generation\"])"
   ]
  }
 ],
 "metadata": {
  "kernelspec": {
   "display_name": ".venv",
   "language": "python",
   "name": "python3"
  },
  "language_info": {
   "codemirror_mode": {
    "name": "ipython",
    "version": 3
   },
   "file_extension": ".py",
   "mimetype": "text/x-python",
   "name": "python",
   "nbconvert_exporter": "python",
   "pygments_lexer": "ipython3",
   "version": "3.9.6"
  }
 },
 "nbformat": 4,
 "nbformat_minor": 2
}
